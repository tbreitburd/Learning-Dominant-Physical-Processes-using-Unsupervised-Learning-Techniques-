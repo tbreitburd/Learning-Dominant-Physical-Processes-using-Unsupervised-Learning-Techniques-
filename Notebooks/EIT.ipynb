{
 "cells": [
  {
   "cell_type": "markdown",
   "metadata": {},
   "source": [
    "# Elasto-inertial Turbulence\n",
    "\n",
    "Here, a new physical process is explored and dominant physical processes are extracted using the data-driven model"
   ]
  },
  {
   "cell_type": "code",
   "execution_count": null,
   "metadata": {},
   "outputs": [],
   "source": []
  }
 ],
 "metadata": {
  "language_info": {
   "name": "python"
  }
 },
 "nbformat": 4,
 "nbformat_minor": 2
}
