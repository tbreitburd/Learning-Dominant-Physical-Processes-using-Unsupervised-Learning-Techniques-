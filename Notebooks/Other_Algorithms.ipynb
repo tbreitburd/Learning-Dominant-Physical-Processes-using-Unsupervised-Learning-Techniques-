{
 "cells": [
  {
   "cell_type": "markdown",
   "metadata": {},
   "source": [
    "# Other Algorithms\n",
    "\n",
    "In this notebook, the robustness of the method chosen in the Callaham paper is tested by exploring other possible algorithms for identifying the dominant balance regimes."
   ]
  },
  {
   "cell_type": "code",
   "execution_count": null,
   "metadata": {},
   "outputs": [],
   "source": []
  }
 ],
 "metadata": {
  "language_info": {
   "name": "python"
  }
 },
 "nbformat": 4,
 "nbformat_minor": 2
}
